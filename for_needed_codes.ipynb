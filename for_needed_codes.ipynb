{
 "cells": [
  {
   "cell_type": "markdown",
   "metadata": {},
   "source": [
    "### game_tag를 수동으로 줄일수 있는 형태로 csv를 만들어 달라고 해서 생성한 저장형태.\n",
    "\n",
    "후에 불러오기 위한 구조로 참고를 위해서. "
   ]
  },
  {
   "cell_type": "code",
   "execution_count": null,
   "metadata": {},
   "outputs": [],
   "source": [
    "ss = []\n",
    "for i in range(len(ttgv)):\n",
    "    ss.append([ttgv['Id'].iloc[i]])\n",
    "\n",
    "for i in range(len(ttgv)):\n",
    "    ss[i].append(ttgv['game_name'].iloc[i])"
   ]
  },
  {
   "cell_type": "code",
   "execution_count": null,
   "metadata": {},
   "outputs": [],
   "source": [
    "for i in range(len(ttgd)):\n",
    "    for j in tg_d.columns[ttgd.iloc[i]].values:\n",
    "        ss[i].append(j)"
   ]
  },
  {
   "cell_type": "code",
   "execution_count": null,
   "metadata": {},
   "outputs": [],
   "source": [
    "import csv\n",
    "with open('for_3_tag_only.csv','w',-1,'utf-8',newline='') as csvfile:\n",
    "    writer = csv.writer(csvfile)\n",
    "    writer.writerow(['Id','game_name','Tags'])\n",
    "    for i in ss:\n",
    "        writer.writerow(i)"
   ]
  },
  {
   "cell_type": "markdown",
   "metadata": {},
   "source": [
    "### bytes로 표현된 데이터를 자연 스트링처럼 받아오기 위한 함수임.\n",
    "\n",
    "기타 스트링 형태로 되어 있는 리스트나 딕셔너리 펑션을 벗겨낼때도 사용 할 수 있다."
   ]
  },
  {
   "cell_type": "code",
   "execution_count": 1,
   "metadata": {},
   "outputs": [],
   "source": [
    "import ast\n",
    "def _parse_bytes(bytes_repr):\n",
    "    result = ast.literal_eval(bytes_repr)\n",
    "\n",
    "    if not isinstance(result, bytes):\n",
    "        raise ValueError(\"Malformed bytes repr\")\n",
    "\n",
    "    return result"
   ]
  },
  {
   "cell_type": "code",
   "execution_count": 8,
   "metadata": {},
   "outputs": [
    {
     "data": {
      "text/plain": [
       "list"
      ]
     },
     "execution_count": 8,
     "metadata": {},
     "output_type": "execute_result"
    }
   ],
   "source": [
    "k = ast.literal_eval(\"['st','ks']\")\n",
    "type(k)"
   ]
  },
  {
   "cell_type": "markdown",
   "metadata": {},
   "source": [
    "### 이번 프로젝트 하면서 txt로 부터 파일을 읽어온후에 다시 적어내는 기본 함수로 사용하였음."
   ]
  },
  {
   "cell_type": "code",
   "execution_count": null,
   "metadata": {},
   "outputs": [],
   "source": [
    "import csv\n",
    "with open('g_t_g.csv', 'w',-1,'utf-8', newline='') as csvfile:\n",
    "    writer = csv.writer(csvfile, quoting=csv.QUOTE_MINIMAL)\n",
    "    writer.writerow(['id','blockbg_list'])\n",
    "    for i in tr_game_id:\n",
    "        cur_dir = os.path.join(base_dir,str(i)+'.txt')\n",
    "        s = open(cur_dir,mode='r',encoding='utf-8')\n",
    "        ss = s.read()\n",
    "        s.close()\n",
    "        ss = _parse_bytes(ss)\n",
    "        soup = BeautifulSoup(ss)\n",
    "        \n",
    "        try:\n",
    "            writer.writerow([i , str(soup.select('img[class=\"game_header_image_full\"]')[0]['src']) ])\n",
    "        except:\n",
    "            writer.writerow([i,'no_data'])"
   ]
  },
  {
   "cell_type": "markdown",
   "metadata": {},
   "source": [
    "### columned data로 전환하기위헤 딕셔너리 파일을 해체할때 쓴 코드"
   ]
  },
  {
   "cell_type": "code",
   "execution_count": null,
   "metadata": {},
   "outputs": [],
   "source": [
    "import pandas as pd \n",
    "col = pd.read_csv('columns.csv')\n",
    "column = col['columns'].values\n",
    "tle = pd.DataFrame(columns=column)\n",
    "TT = tle.copy()\n",
    "\n",
    "import ast\n",
    "add_info = []\n",
    "for i in game_add_info.play_image_list.values:\n",
    "    try:\n",
    "        add_info.append(ast.literal_eval(i))\n",
    "    except:\n",
    "        add_info.append(i)\n",
    "def call_key(dic, string):\n",
    "    try:\n",
    "        return dic[string]\n",
    "    except:\n",
    "        return 'no_data'\n",
    "def add_info_check(string):\n",
    "    tmp = []\n",
    "    for i in add_info:\n",
    "        tmp.append(call_key(i,string))\n",
    "    return tmp"
   ]
  }
 ],
 "metadata": {
  "kernelspec": {
   "display_name": "Python 3",
   "language": "python",
   "name": "python3"
  },
  "language_info": {
   "codemirror_mode": {
    "name": "ipython",
    "version": 3
   },
   "file_extension": ".py",
   "mimetype": "text/x-python",
   "name": "python",
   "nbconvert_exporter": "python",
   "pygments_lexer": "ipython3",
   "version": "3.7.0"
  }
 },
 "nbformat": 4,
 "nbformat_minor": 4
}
