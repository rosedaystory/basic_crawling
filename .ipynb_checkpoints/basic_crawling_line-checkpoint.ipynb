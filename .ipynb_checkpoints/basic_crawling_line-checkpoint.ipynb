{
 "cells": [
  {
   "cell_type": "code",
   "execution_count": 5,
   "metadata": {},
   "outputs": [],
   "source": [
    "import requests\n",
    "from bs4 import BeautifulSoup\n",
    "import selenium as sel"
   ]
  },
  {
   "cell_type": "markdown",
   "metadata": {},
   "source": [
    "## load base site"
   ]
  },
  {
   "cell_type": "code",
   "execution_count": 6,
   "metadata": {},
   "outputs": [],
   "source": [
    "base_site = requests.get('https://www.iucr.org/resources/other-directories/software?result_42405_result_page=@')"
   ]
  },
  {
   "cell_type": "markdown",
   "metadata": {},
   "source": [
    "## first scratch for site list "
   ]
  },
  {
   "cell_type": "code",
   "execution_count": 52,
   "metadata": {},
   "outputs": [],
   "source": [
    "text = base_site.text\n",
    "soup = BeautifulSoup(text)"
   ]
  },
  {
   "cell_type": "code",
   "execution_count": 95,
   "metadata": {},
   "outputs": [],
   "source": [
    "t = soup.select('div#content_div_42413 a')[:-5]"
   ]
  },
  {
   "cell_type": "code",
   "execution_count": 103,
   "metadata": {},
   "outputs": [],
   "source": [
    "site_name = []\n",
    "for i in t:\n",
    "    site_name.append(i['href'])"
   ]
  },
  {
   "cell_type": "code",
   "execution_count": 104,
   "metadata": {},
   "outputs": [
    {
     "data": {
      "text/plain": [
       "['https://www.iucr.org/resources/other-directories/software?result_42405_result_page=A',\n",
       " 'https://www.iucr.org/resources/other-directories/software?result_42405_result_page=B',\n",
       " 'https://www.iucr.org/resources/other-directories/software?result_42405_result_page=C',\n",
       " 'https://www.iucr.org/resources/other-directories/software?result_42405_result_page=D',\n",
       " 'https://www.iucr.org/resources/other-directories/software?result_42405_result_page=E',\n",
       " 'https://www.iucr.org/resources/other-directories/software?result_42405_result_page=F',\n",
       " 'https://www.iucr.org/resources/other-directories/software?result_42405_result_page=G',\n",
       " 'https://www.iucr.org/resources/other-directories/software?result_42405_result_page=H',\n",
       " 'https://www.iucr.org/resources/other-directories/software?result_42405_result_page=I',\n",
       " 'https://www.iucr.org/resources/other-directories/software?result_42405_result_page=J',\n",
       " 'https://www.iucr.org/resources/other-directories/software?result_42405_result_page=K',\n",
       " 'https://www.iucr.org/resources/other-directories/software?result_42405_result_page=L',\n",
       " 'https://www.iucr.org/resources/other-directories/software?result_42405_result_page=M',\n",
       " 'https://www.iucr.org/resources/other-directories/software?result_42405_result_page=N',\n",
       " 'https://www.iucr.org/resources/other-directories/software?result_42405_result_page=O',\n",
       " 'https://www.iucr.org/resources/other-directories/software?result_42405_result_page=P',\n",
       " 'https://www.iucr.org/resources/other-directories/software?result_42405_result_page=Q',\n",
       " 'https://www.iucr.org/resources/other-directories/software?result_42405_result_page=R',\n",
       " 'https://www.iucr.org/resources/other-directories/software?result_42405_result_page=S',\n",
       " 'https://www.iucr.org/resources/other-directories/software?result_42405_result_page=T',\n",
       " 'https://www.iucr.org/resources/other-directories/software?result_42405_result_page=U',\n",
       " 'https://www.iucr.org/resources/other-directories/software?result_42405_result_page=V',\n",
       " 'https://www.iucr.org/resources/other-directories/software?result_42405_result_page=W',\n",
       " 'https://www.iucr.org/resources/other-directories/software?result_42405_result_page=X',\n",
       " 'https://www.iucr.org/resources/other-directories/software?result_42405_result_page=Y',\n",
       " 'https://www.iucr.org/resources/other-directories/software?result_42405_result_page=Z',\n",
       " 'https://www.iucr.org/resources/other-directories/software?result_42405_result_page=@']"
      ]
     },
     "execution_count": 104,
     "metadata": {},
     "output_type": "execute_result"
    }
   ],
   "source": [
    "site_name"
   ]
  },
  {
   "cell_type": "markdown",
   "metadata": {},
   "source": [
    "## parsing needed part"
   ]
  },
  {
   "cell_type": "code",
   "execution_count": 116,
   "metadata": {},
   "outputs": [
    {
     "data": {
      "text/plain": [
       "'https://www.iucr.org/resources/other-directories/software/abscyl'"
      ]
     },
     "execution_count": 116,
     "metadata": {},
     "output_type": "execute_result"
    }
   ],
   "source": [
    "try_text.select('.whatsnew')[0].a['href']"
   ]
  },
  {
   "cell_type": "code",
   "execution_count": 135,
   "metadata": {},
   "outputs": [
    {
     "data": {
      "text/plain": [
       "' ABSORB is a program to calculate and apply absorption corrections to single-crystal X-ray intensity data, has been reconfigured to allow it to be called directly from external data processing programs. ABSORB-GUI has been developed to allow much easier specification of standard experiments.'"
      ]
     },
     "execution_count": 135,
     "metadata": {},
     "output_type": "execute_result"
    }
   ],
   "source": [
    "try_text.select('.whatsnew')[3].contents[2]"
   ]
  },
  {
   "cell_type": "code",
   "execution_count": 121,
   "metadata": {},
   "outputs": [
    {
     "data": {
      "text/plain": [
       "'ABSCYL'"
      ]
     },
     "execution_count": 121,
     "metadata": {},
     "output_type": "execute_result"
    }
   ],
   "source": [
    "try_text.select('.whatsnew')[0].a.text"
   ]
  },
  {
   "cell_type": "code",
   "execution_count": 138,
   "metadata": {},
   "outputs": [],
   "source": [
    "full_text  = []\n",
    "\n",
    "for si in site_name:\n",
    "    temp = requests.get(si)\n",
    "    temp_text = BeautifulSoup(temp.text)\n",
    "    for i in temp_text.select('.whatsnew'):\n",
    "        full_text.append([i.a.text, i.contents[2], i.a['href']])"
   ]
  },
  {
   "cell_type": "code",
   "execution_count": 140,
   "metadata": {},
   "outputs": [],
   "source": [
    "import csv\n",
    "with open('crystal_software_list.csv','w',-1,'utf-8',newline='') as csvfile:\n",
    "    writer = csv.writer(csvfile)\n",
    "    writer.writerow(['name','description','site_link'])\n",
    "    for i in full_text:\n",
    "        writer.writerow(i)"
   ]
  },
  {
   "cell_type": "code",
   "execution_count": null,
   "metadata": {},
   "outputs": [],
   "source": []
  }
 ],
 "metadata": {
  "kernelspec": {
   "display_name": "Python 3",
   "language": "python",
   "name": "python3"
  },
  "language_info": {
   "codemirror_mode": {
    "name": "ipython",
    "version": 3
   },
   "file_extension": ".py",
   "mimetype": "text/x-python",
   "name": "python",
   "nbconvert_exporter": "python",
   "pygments_lexer": "ipython3",
   "version": "3.7.0"
  }
 },
 "nbformat": 4,
 "nbformat_minor": 4
}
